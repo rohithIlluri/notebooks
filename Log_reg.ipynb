{
 "cells": [
  {
   "cell_type": "code",
   "execution_count": 1,
   "id": "3f860000",
   "metadata": {},
   "outputs": [],
   "source": [
    "import math\n",
    "import numpy as np\n",
    "\n",
    "\n",
    "# GRADED FUNCTION: basic_sigmoid\n",
    "\n",
    "def basic_sigmoid(x):\n",
    "    \"\"\"\n",
    "    Compute sigmoid of x.\n",
    "\n",
    "    Arguments:\n",
    "    x -- A scalar\n",
    "\n",
    "    Return:\n",
    "    s -- sigmoid(x)\n",
    "    \"\"\"\n",
    "    # (≈ 1 line of code)\n",
    "    # s = \n",
    "    # YOUR CODE STARTS HERE\n",
    "    s = 1/(1+np.exp(-x))\n",
    "    \n",
    "    # YOUR CODE ENDS HERE\n",
    "    \n",
    "    return s"
   ]
  },
  {
   "cell_type": "code",
   "execution_count": 2,
   "id": "d9511aea",
   "metadata": {},
   "outputs": [
    {
     "name": "stdout",
     "output_type": "stream",
     "text": [
      "basic_sigmoid(1)= 0.7310585786300049\n"
     ]
    }
   ],
   "source": [
    "print(\"basic_sigmoid(1)= \" +str(basic_sigmoid(1)))\n"
   ]
  },
  {
   "cell_type": "code",
   "execution_count": 3,
   "id": "1c2d7385",
   "metadata": {},
   "outputs": [
    {
     "name": "stdout",
     "output_type": "stream",
     "text": [
      "[ 2.71828183  7.3890561  20.08553692]\n",
      "[ 2.71828183  7.3890561  20.08553692]\n"
     ]
    }
   ],
   "source": [
    "t_x = np.array([1,2,3])\n",
    "print(np.exp(t_x))\n",
    "\n",
    "T_x = np.exp([1,2,3])\n",
    "print(T_x)"
   ]
  },
  {
   "cell_type": "code",
   "execution_count": 4,
   "id": "f2364705",
   "metadata": {},
   "outputs": [
    {
     "name": "stdout",
     "output_type": "stream",
     "text": [
      "[4 5 6]\n"
     ]
    }
   ],
   "source": [
    "t_x = np.array([1,2,3])\n",
    "print(t_x+3)"
   ]
  },
  {
   "cell_type": "markdown",
   "id": "a4f1b713",
   "metadata": {},
   "source": [
    "# Sigmoid Gradient"
   ]
  },
  {
   "cell_type": "code",
   "execution_count": 5,
   "id": "e7c0d59d",
   "metadata": {},
   "outputs": [],
   "source": [
    "def sigmoid_derivative(x):\n",
    "    s = 1/(1+np.exp(-x))\n",
    "    ds = s*(1-s)\n",
    "    return ds"
   ]
  },
  {
   "cell_type": "code",
   "execution_count": 6,
   "id": "485cb103",
   "metadata": {},
   "outputs": [
    {
     "name": "stdout",
     "output_type": "stream",
     "text": [
      "sigmoid_derivative(t_x) = [0.19661193 0.10499359 0.04517666]\n"
     ]
    },
    {
     "data": {
      "text/plain": [
       "array([0.19661193, 0.10499359, 0.04517666])"
      ]
     },
     "execution_count": 6,
     "metadata": {},
     "output_type": "execute_result"
    }
   ],
   "source": [
    "t_x = np.array([1,2,3])\n",
    "print(\"sigmoid_derivative(t_x) = \" +str(sigmoid_derivative(t_x)))\n",
    "sigmoid_derivative(t_x)"
   ]
  },
  {
   "cell_type": "markdown",
   "id": "208838ea",
   "metadata": {},
   "source": [
    "# Reshaping arrays\n"
   ]
  },
  {
   "cell_type": "code",
   "execution_count": 7,
   "id": "5792eca7",
   "metadata": {},
   "outputs": [],
   "source": [
    "def image2vector(image):\n",
    "    v = image.reshape((image.shape[0]* image.shape[1]*image.shape[2],1))\n",
    "    return v"
   ]
  },
  {
   "cell_type": "code",
   "execution_count": 8,
   "id": "2963a604",
   "metadata": {},
   "outputs": [
    {
     "name": "stdout",
     "output_type": "stream",
     "text": [
      "image2vector(image) = [[0.67826139]\n",
      " [0.29380381]\n",
      " [0.90714982]\n",
      " [0.52835647]\n",
      " [0.4215251 ]\n",
      " [0.45017551]\n",
      " [0.92814219]\n",
      " [0.96677647]\n",
      " [0.85304703]\n",
      " [0.52351845]\n",
      " [0.19981397]\n",
      " [0.27417313]\n",
      " [0.60659855]\n",
      " [0.00533165]\n",
      " [0.10820313]\n",
      " [0.49978937]\n",
      " [0.34144279]\n",
      " [0.94630077]]\n"
     ]
    }
   ],
   "source": [
    "t_image = np.array([[[ 0.67826139,  0.29380381],\n",
    "                     [ 0.90714982,  0.52835647],\n",
    "                     [ 0.4215251 ,  0.45017551]],\n",
    "\n",
    "                   [[ 0.92814219,  0.96677647],\n",
    "                    [ 0.85304703,  0.52351845],\n",
    "                    [ 0.19981397,  0.27417313]],\n",
    "\n",
    "                   [[ 0.60659855,  0.00533165],\n",
    "                    [ 0.10820313,  0.49978937],\n",
    "                    [ 0.34144279,  0.94630077]]])\n",
    "\n",
    "print (\"image2vector(image) = \" + str(image2vector(t_image)))\n"
   ]
  },
  {
   "cell_type": "markdown",
   "id": "78fb249a",
   "metadata": {},
   "source": [
    "## Normalizing rows"
   ]
  },
  {
   "cell_type": "code",
   "execution_count": 9,
   "id": "73332c32",
   "metadata": {},
   "outputs": [],
   "source": [
    "def normalize_rows(x):\n",
    "    x_norm = np.linalg.norm(x,ord =2,axis=1,keepdims=True)\n",
    "    x = x/x_norm\n",
    "    return x\n"
   ]
  },
  {
   "cell_type": "code",
   "execution_count": 10,
   "id": "32b6ea11",
   "metadata": {},
   "outputs": [
    {
     "name": "stdout",
     "output_type": "stream",
     "text": [
      " normalizerows(x) = [[0.         0.6        0.8       ]\n",
      " [0.13736056 0.82416338 0.54944226]]\n"
     ]
    }
   ],
   "source": [
    "x = np.array([[0,3,4],[1,6,4]])\n",
    "\n",
    "print(\" normalizerows(x) = \" +str(normalize_rows(x)))"
   ]
  },
  {
   "cell_type": "markdown",
   "id": "615292f9",
   "metadata": {},
   "source": [
    "# softmax"
   ]
  },
  {
   "cell_type": "code",
   "execution_count": 11,
   "id": "5081f224",
   "metadata": {},
   "outputs": [],
   "source": [
    "def softmax(x):\n",
    "    x_exp = np.exp(x)\n",
    "    x_sum = np.sum(x_exp,axis=1, keepdims=True)\n",
    "    s=x_exp/x_sum\n",
    "    return s"
   ]
  },
  {
   "cell_type": "code",
   "execution_count": 12,
   "id": "efb1e774",
   "metadata": {},
   "outputs": [
    {
     "name": "stdout",
     "output_type": "stream",
     "text": [
      "softmax(x) = [[0.69638749 0.01275478 0.03467109 0.25618664]\n",
      " [0.01044177 0.20972851 0.20972851 0.57010121]]\n"
     ]
    }
   ],
   "source": [
    "t_x =np.array([[9,5,6,8],[1,4,4,5]])\n",
    "\n",
    "print(\"softmax(x) = \" + str(softmax(t_x)))\n"
   ]
  },
  {
   "cell_type": "markdown",
   "id": "5f934123",
   "metadata": {},
   "source": [
    "# Vecotorization"
   ]
  },
  {
   "cell_type": "code",
   "execution_count": 13,
   "id": "a43d87a8",
   "metadata": {},
   "outputs": [
    {
     "name": "stdout",
     "output_type": "stream",
     "text": [
      "dot = 474\n",
      " ----- computation time =0.0ms\n",
      "outer = [[81.  9. 63. 45.  9. 18. 72. 45. 45.  9. 54. 81. 81. 54. 18. 81.  9.]\n",
      " [81.  9. 63. 45.  9. 18. 72. 45. 45.  9. 54. 81. 81. 54. 18. 81.  9.]\n",
      " [45.  5. 35. 25.  5. 10. 40. 25. 25.  5. 30. 45. 45. 30. 10. 45.  5.]\n",
      " [45.  5. 35. 25.  5. 10. 40. 25. 25.  5. 30. 45. 45. 30. 10. 45.  5.]\n",
      " [63.  7. 49. 35.  7. 14. 56. 35. 35.  7. 42. 63. 63. 42. 14. 63.  7.]\n",
      " [72.  8. 56. 40.  8. 16. 64. 40. 40.  8. 48. 72. 72. 48. 16. 72.  8.]\n",
      " [81.  9. 63. 45.  9. 18. 72. 45. 45.  9. 54. 81. 81. 54. 18. 81.  9.]\n",
      " [27.  3. 21. 15.  3.  6. 24. 15. 15.  3. 18. 27. 27. 18.  6. 27.  3.]\n",
      " [45.  5. 35. 25.  5. 10. 40. 25. 25.  5. 30. 45. 45. 30. 10. 45.  5.]\n",
      " [54.  6. 42. 30.  6. 12. 48. 30. 30.  6. 36. 54. 54. 36. 12. 54.  6.]\n",
      " [54.  6. 42. 30.  6. 12. 48. 30. 30.  6. 36. 54. 54. 36. 12. 54.  6.]\n",
      " [18.  2. 14. 10.  2.  4. 16. 10. 10.  2. 12. 18. 18. 12.  4. 18.  2.]\n",
      " [72.  8. 56. 40.  8. 16. 64. 40. 40.  8. 48. 72. 72. 48. 16. 72.  8.]\n",
      " [54.  6. 42. 30.  6. 12. 48. 30. 30.  6. 36. 54. 54. 36. 12. 54.  6.]\n",
      " [18.  2. 14. 10.  2.  4. 16. 10. 10.  2. 12. 18. 18. 12.  4. 18.  2.]\n",
      " [ 9.  1.  7.  5.  1.  2.  8.  5.  5.  1.  6.  9.  9.  6.  2.  9.  1.]\n",
      " [72.  8. 56. 40.  8. 16. 64. 40. 40.  8. 48. 72. 72. 48. 16. 72.  8.]]\n",
      " ----- computation time =0.0ms\n"
     ]
    }
   ],
   "source": [
    "import time \n",
    "\n",
    "x_1 = [9,9,5,5,7,8,9,3,5,6,6,2,8,6,2,1,8]\n",
    "x_2 = [9,1,7,5,1,2,8,5,5,1,6,9,9,6,2,9,1]\n",
    "\n",
    "## classic dot product of vectors ##\n",
    "tic = time.process_time()\n",
    "dot = 0\n",
    "\n",
    "for i in range(len(x_1)):\n",
    "    dot += x_1[i]*x_2[i]\n",
    "\n",
    "toc = time.process_time()\n",
    "print(\"dot = \" +str(dot) + \"\\n ----- computation time =\" +str(1000*(toc-tic)) +\"ms\")\n",
    "\n",
    "### classic outer product ###\n",
    "\n",
    "tic = time.process_time()\n",
    "outer = np.zeros((len(x_1),len(x_2)))\n",
    "\n",
    "for i in range(len(x_1)):\n",
    "    for j in range(len(x_2)):\n",
    "        \n",
    "        outer[i,j] = x_1[i]*x_2[j]\n",
    "    \n",
    "toc = time.process_time()\n",
    "\n",
    "print(\"outer = \" +str(outer) + \"\\n ----- computation time =\" +str(1000*(toc-tic)) + \"ms\")\n"
   ]
  },
  {
   "cell_type": "markdown",
   "id": "abd701b8",
   "metadata": {},
   "source": [
    "# Vectorizerd version"
   ]
  },
  {
   "cell_type": "code",
   "execution_count": 14,
   "id": "7f815fcb",
   "metadata": {},
   "outputs": [
    {
     "name": "stdout",
     "output_type": "stream",
     "text": [
      "the vectorized dot product of c =14\n",
      " ----computation time =0.0ms\n"
     ]
    }
   ],
   "source": [
    "a = np.array([1,2,3])\n",
    "b = np.array([1,2,3])\n",
    "\n",
    "### dot product###\n",
    "\n",
    "tic=time.process_time()\n",
    "c = np.dot(a,b)\n",
    "toc =time.process_time()\n",
    "print (\"the vectorized dot product of c =\"+str(c)+\"\\n ----computation time =\" +str(1000 *  (toc-tic)) +\"ms\")"
   ]
  },
  {
   "cell_type": "code",
   "execution_count": 15,
   "id": "097fb9eb",
   "metadata": {},
   "outputs": [
    {
     "name": "stdout",
     "output_type": "stream",
     "text": [
      "the vectorized of outer product of c =[[1 2 3]\n",
      " [2 4 6]\n",
      " [3 6 9]]\n",
      " ----computation time =0.0ms\n"
     ]
    }
   ],
   "source": [
    "### outer product###\n",
    "\n",
    "tic=time.process_time()\n",
    "c = np.outer(a,b)\n",
    "toc = time.process_time()\n",
    "print (\"the vectorized of outer product of c =\"+str(c)+\"\\n ----computation time =\" +str(1000*(toc-tic)) +\"ms\")"
   ]
  },
  {
   "cell_type": "code",
   "execution_count": 16,
   "id": "f2638415",
   "metadata": {},
   "outputs": [
    {
     "name": "stdout",
     "output_type": "stream",
     "text": [
      "the vectorized multiplication product of c =[1 4 9]\n",
      " ----computation time =0.0ms\n"
     ]
    }
   ],
   "source": [
    "## vectorized elementwise multiplication ###\n",
    "\n",
    "\n",
    "tic=time.process_time()\n",
    "c = np.multiply(a,b)\n",
    "toc = time.process_time()\n",
    "print (\"the vectorized multiplication product of c =\"+str(c)+\"\\n ----computation time =\" +str(1000*(toc-tic)) +\"ms\")"
   ]
  },
  {
   "cell_type": "markdown",
   "id": "85a845e8",
   "metadata": {},
   "source": [
    "# L1 and L2 functions.."
   ]
  },
  {
   "cell_type": "code",
   "execution_count": 23,
   "id": "31d9c8d0",
   "metadata": {},
   "outputs": [],
   "source": [
    "def L1(yhat,y):\n",
    "    loss = sum(abs(y-yhat))\n",
    "    return loss\n",
    "\n",
    "\n"
   ]
  },
  {
   "cell_type": "code",
   "execution_count": 25,
   "id": "f2cb90e9",
   "metadata": {},
   "outputs": [
    {
     "name": "stdout",
     "output_type": "stream",
     "text": [
      "L1 = 2.9000000000000004\n"
     ]
    }
   ],
   "source": [
    "yhat = np.array([.2, .5, .6, .9, .7])\n",
    "y = np.array([1,0,1,0,1])\n",
    "\n",
    "print(\"L1 = \" + str(L1(yhat,y)))\n"
   ]
  },
  {
   "cell_type": "markdown",
   "id": "65b8c960",
   "metadata": {},
   "source": [
    "# L2"
   ]
  },
  {
   "cell_type": "code",
   "execution_count": 26,
   "id": "735c1b3d",
   "metadata": {},
   "outputs": [
    {
     "name": "stdout",
     "output_type": "stream",
     "text": [
      "L2 =1.2200000000000002\n"
     ]
    }
   ],
   "source": [
    "def L2(yhat,y):\n",
    "    loss = sum((y-yhat)**2)\n",
    "    return loss\n",
    "\n",
    "yhat = np.array([.9,.6,.2,.1])\n",
    "y =  np.array([1,0,0,1])\n",
    "\n",
    "print(\"L2 =\"+str(L2(yhat,y)))\n",
    " "
   ]
  },
  {
   "cell_type": "code",
   "execution_count": null,
   "id": "c705ae85",
   "metadata": {},
   "outputs": [],
   "source": []
  }
 ],
 "metadata": {
  "kernelspec": {
   "display_name": "Python 3",
   "language": "python",
   "name": "python3"
  },
  "language_info": {
   "codemirror_mode": {
    "name": "ipython",
    "version": 3
   },
   "file_extension": ".py",
   "mimetype": "text/x-python",
   "name": "python",
   "nbconvert_exporter": "python",
   "pygments_lexer": "ipython3",
   "version": "3.9.1"
  }
 },
 "nbformat": 4,
 "nbformat_minor": 5
}
